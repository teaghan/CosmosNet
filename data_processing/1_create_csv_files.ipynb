{
 "cells": [
  {
   "cell_type": "markdown",
   "id": "d93af4be-c7c4-4cac-ba55-09ee3e61fca7",
   "metadata": {},
   "source": [
    "# Cross-Referencing Datasets\n",
    "\n",
    "Using the HSC SSP catalogue of objects with spectroscopic redshift estimates with a catalogue of objects that have been classified as stars, QSOs, galaxies, or unknown.\n",
    "\n",
    "We will use these cross-referenced datasets as the basis for validating our Masked Image Modelling approach to developing meaningful embeddings of HSC images.\n",
    "\n",
    "By creating `.csv` files with the RA, Dec, and redshift measurements of each object, we can then use this information to index into the HSV image data to create datasets of 64$\\times$ 64 cutouts around each object."
   ]
  },
  {
   "cell_type": "code",
   "execution_count": 1,
   "id": "6028572e-f232-40aa-b337-d6dddcdb2a57",
   "metadata": {},
   "outputs": [],
   "source": [
    "import pandas as pd\n",
    "import matplotlib.pyplot as plt\n",
    "import numpy as np\n",
    "import math\n",
    "import h5py\n",
    "import os\n",
    "import sys\n",
    "from scipy.spatial import cKDTree\n",
    "import time\n",
    "\n",
    "sys.path.append('../utils/')\n",
    "from analysis_fns import normalize_images, display_images"
   ]
  },
  {
   "cell_type": "markdown",
   "id": "4e5f3413-a742-4a66-a18c-ce0542a8298a",
   "metadata": {},
   "source": [
    "### Load the classification data.\n",
    "\n",
    "`cspec: {0:unknown, 1:star, 2:galaxy, 3:qso}`"
   ]
  },
  {
   "cell_type": "code",
   "execution_count": 2,
   "id": "60b5d0e5-52c8-4e1e-a44e-ca5266bcc585",
   "metadata": {},
   "outputs": [
    {
     "data": {
      "text/html": [
       "<div>\n",
       "<style scoped>\n",
       "    .dataframe tbody tr th:only-of-type {\n",
       "        vertical-align: middle;\n",
       "    }\n",
       "\n",
       "    .dataframe tbody tr th {\n",
       "        vertical-align: top;\n",
       "    }\n",
       "\n",
       "    .dataframe thead th {\n",
       "        text-align: right;\n",
       "    }\n",
       "</style>\n",
       "<table border=\"1\" class=\"dataframe\">\n",
       "  <thead>\n",
       "    <tr style=\"text-align: right;\">\n",
       "      <th></th>\n",
       "      <th>ra</th>\n",
       "      <th>dec</th>\n",
       "      <th>cspec</th>\n",
       "      <th>zspec</th>\n",
       "      <th>zspec_err</th>\n",
       "    </tr>\n",
       "  </thead>\n",
       "  <tbody>\n",
       "    <tr>\n",
       "      <th>0</th>\n",
       "      <td>24.837864</td>\n",
       "      <td>31.987288</td>\n",
       "      <td>2.0</td>\n",
       "      <td>0.373586</td>\n",
       "      <td>0.0</td>\n",
       "    </tr>\n",
       "    <tr>\n",
       "      <th>1</th>\n",
       "      <td>24.834875</td>\n",
       "      <td>32.031507</td>\n",
       "      <td>2.0</td>\n",
       "      <td>0.783066</td>\n",
       "      <td>0.0</td>\n",
       "    </tr>\n",
       "    <tr>\n",
       "      <th>2</th>\n",
       "      <td>24.291261</td>\n",
       "      <td>31.900061</td>\n",
       "      <td>1.0</td>\n",
       "      <td>0.000045</td>\n",
       "      <td>0.0</td>\n",
       "    </tr>\n",
       "    <tr>\n",
       "      <th>3</th>\n",
       "      <td>24.347372</td>\n",
       "      <td>31.805734</td>\n",
       "      <td>2.0</td>\n",
       "      <td>1.071963</td>\n",
       "      <td>0.0</td>\n",
       "    </tr>\n",
       "    <tr>\n",
       "      <th>4</th>\n",
       "      <td>24.270095</td>\n",
       "      <td>31.874742</td>\n",
       "      <td>2.0</td>\n",
       "      <td>0.812852</td>\n",
       "      <td>0.0</td>\n",
       "    </tr>\n",
       "    <tr>\n",
       "      <th>...</th>\n",
       "      <td>...</td>\n",
       "      <td>...</td>\n",
       "      <td>...</td>\n",
       "      <td>...</td>\n",
       "      <td>...</td>\n",
       "    </tr>\n",
       "    <tr>\n",
       "      <th>55225810</th>\n",
       "      <td>320.101000</td>\n",
       "      <td>-63.718700</td>\n",
       "      <td>NaN</td>\n",
       "      <td>0.021837</td>\n",
       "      <td>0.0</td>\n",
       "    </tr>\n",
       "    <tr>\n",
       "      <th>55225811</th>\n",
       "      <td>13.091700</td>\n",
       "      <td>31.442220</td>\n",
       "      <td>NaN</td>\n",
       "      <td>0.015593</td>\n",
       "      <td>0.0</td>\n",
       "    </tr>\n",
       "    <tr>\n",
       "      <th>55225812</th>\n",
       "      <td>118.893000</td>\n",
       "      <td>29.173060</td>\n",
       "      <td>NaN</td>\n",
       "      <td>0.021234</td>\n",
       "      <td>0.0</td>\n",
       "    </tr>\n",
       "    <tr>\n",
       "      <th>55225813</th>\n",
       "      <td>133.058000</td>\n",
       "      <td>1.460280</td>\n",
       "      <td>NaN</td>\n",
       "      <td>0.204486</td>\n",
       "      <td>0.0</td>\n",
       "    </tr>\n",
       "    <tr>\n",
       "      <th>55225814</th>\n",
       "      <td>229.409000</td>\n",
       "      <td>5.707180</td>\n",
       "      <td>NaN</td>\n",
       "      <td>0.174091</td>\n",
       "      <td>0.0</td>\n",
       "    </tr>\n",
       "  </tbody>\n",
       "</table>\n",
       "<p>55225815 rows × 5 columns</p>\n",
       "</div>"
      ],
      "text/plain": [
       "                  ra        dec  cspec     zspec  zspec_err\n",
       "0          24.837864  31.987288    2.0  0.373586        0.0\n",
       "1          24.834875  32.031507    2.0  0.783066        0.0\n",
       "2          24.291261  31.900061    1.0  0.000045        0.0\n",
       "3          24.347372  31.805734    2.0  1.071963        0.0\n",
       "4          24.270095  31.874742    2.0  0.812852        0.0\n",
       "...              ...        ...    ...       ...        ...\n",
       "55225810  320.101000 -63.718700    NaN  0.021837        0.0\n",
       "55225811   13.091700  31.442220    NaN  0.015593        0.0\n",
       "55225812  118.893000  29.173060    NaN  0.021234        0.0\n",
       "55225813  133.058000   1.460280    NaN  0.204486        0.0\n",
       "55225814  229.409000   5.707180    NaN  0.174091        0.0\n",
       "\n",
       "[55225815 rows x 5 columns]"
      ]
     },
     "execution_count": 2,
     "metadata": {},
     "output_type": "execute_result"
    }
   ],
   "source": [
    "class_labels = pd.read_parquet('/arc/projects/unions/catalogues/redshifts/redshifts-2024-05-07.parquet')\n",
    "class_indices = {'unkown':np.nan, 'star':1, 'galaxy':2, 'qso':3}\n",
    "class_labels"
   ]
  },
  {
   "cell_type": "markdown",
   "id": "133327ff-ad00-4802-a5fe-85f14c0117cb",
   "metadata": {},
   "source": [
    "### Remove duplicates in the catalogue."
   ]
  },
  {
   "cell_type": "code",
   "execution_count": 3,
   "id": "83c1cdce-35e4-4d3b-83a7-3794e85059c0",
   "metadata": {},
   "outputs": [],
   "source": [
    "def deg_to_cartesian(ra, dec):\n",
    "    # Convert RA and DEC to radians for spatial indexing\n",
    "    ra = np.radians(ra)\n",
    "    dec = np.radians(dec)\n",
    "    # Convert to Cartesian coordinates\n",
    "    return np.cos(ra) * np.cos(dec), np.sin(ra) * np.cos(dec), np.sin(dec)\n",
    "\n",
    "def create_kdtree(ra, dec):\n",
    "    '''Function to create a KDTree for efficient spatial searches.'''\n",
    "    # Convert to Cartesian coordinates for KDTree\n",
    "    x, y, z = deg_to_cartesian(ra, dec)\n",
    "    coords = np.vstack((x, y, z)).T\n",
    "    return cKDTree(coords)\n",
    "\n",
    "tolerance = 1/3600  # Tolerance in degrees\n",
    "tolerance_rad = np.radians(tolerance)  # Convert tolerance to radians"
   ]
  },
  {
   "cell_type": "code",
   "execution_count": 4,
   "id": "49bcfda7-e3a4-4203-bcbd-1a39596d270b",
   "metadata": {},
   "outputs": [
    {
     "name": "stdout",
     "output_type": "stream",
     "text": [
      "Removed 2624141 duplicates.\n"
     ]
    }
   ],
   "source": [
    "# Create HSC KDTree to remove duplicates\n",
    "hsc_kdtree = create_kdtree(class_labels['ra'].values, \n",
    "                           class_labels['dec'].values)\n",
    "\n",
    "# Collect RA and Dec of HSC SSP data and \n",
    "# convert to Cartesian for search\n",
    "X, Y, Z = deg_to_cartesian(class_labels['ra'].values, class_labels['dec'].values)\n",
    "\n",
    "# Remove duplicates\n",
    "good_indices = []\n",
    "for i, (x,y,z) in enumerate(zip(X,Y,Z)):\n",
    "    matches = hsc_kdtree.query_ball_point([x, y, z], r=tolerance_rad)\n",
    "    if len(matches)<2:\n",
    "        good_indices.append(i)\n",
    "\n",
    "print(f'Removed {(len(class_labels)-len(good_indices))} duplicates.')\n",
    "class_labels = class_labels.iloc[good_indices]"
   ]
  },
  {
   "cell_type": "markdown",
   "id": "a5068833-6e38-43aa-8902-f4e91a90e7b5",
   "metadata": {},
   "source": [
    "### Create class .csv files"
   ]
  },
  {
   "cell_type": "code",
   "execution_count": 5,
   "id": "639708e9-c4fe-4f18-8eda-e28ca0ab4299",
   "metadata": {},
   "outputs": [
    {
     "name": "stdout",
     "output_type": "stream",
     "text": [
      "Found 0 objects with the unkown class\n",
      "Found 24184966 objects with the star class\n",
      "Found 24541761 objects with the galaxy class\n",
      "Found 3421700 objects with the qso class\n"
     ]
    }
   ],
   "source": [
    "# Select only a given class of objects and look for matching RA and Decs\n",
    "for class_name in ['unkown','star','galaxy','qso']:\n",
    "    class_index = class_indices[class_name]\n",
    "    \n",
    "    matching_indices = np.where(class_labels['cspec']==class_index)[0]\n",
    "\n",
    "    print(f'Found {len(matching_indices)} objects with the {class_name} class')\n",
    "    # Write the DataFrame to a CSV file, including only the specified columns\n",
    "    class_labels.iloc[matching_indices].to_csv(f'../data/HSC_{class_name}.csv', \n",
    "                                             columns=['ra','dec','zspec','zspec_err'], index=False)"
   ]
  }
 ],
 "metadata": {
  "kernelspec": {
   "display_name": "Python 3 (ipykernel)",
   "language": "python",
   "name": "python3"
  },
  "language_info": {
   "codemirror_mode": {
    "name": "ipython",
    "version": 3
   },
   "file_extension": ".py",
   "mimetype": "text/x-python",
   "name": "python",
   "nbconvert_exporter": "python",
   "pygments_lexer": "ipython3",
   "version": "3.11.9"
  }
 },
 "nbformat": 4,
 "nbformat_minor": 5
}
